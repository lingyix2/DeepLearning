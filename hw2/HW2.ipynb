{
 "cells": [
  {
   "cell_type": "markdown",
   "metadata": {},
   "source": [
    "Lingyi Xu (lingyix2)     CS398 HW2"
   ]
  },
  {
   "cell_type": "markdown",
   "metadata": {},
   "source": [
    "# Import Libraries"
   ]
  },
  {
   "cell_type": "code",
   "execution_count": 1,
   "metadata": {},
   "outputs": [],
   "source": [
    "import h5py\n",
    "import math\n",
    "import random\n",
    "import scipy.sparse\n",
    "\n",
    "import numpy as np\n",
    "import matplotlib.pyplot as plt"
   ]
  },
  {
   "cell_type": "markdown",
   "metadata": {},
   "source": [
    "# Fetch Data"
   ]
  },
  {
   "cell_type": "code",
   "execution_count": 2,
   "metadata": {},
   "outputs": [],
   "source": [
    "# code from lecture notes\n",
    "MNIST_data = h5py.File('MNISTdata.hdf5', 'r')\n",
    "x_train = np.float32(MNIST_data['x_train'][:] )\n",
    "y_train = np.int32(np.array(MNIST_data['y_train'][:,0]))\n",
    "x_test = np.float32(MNIST_data['x_test'][:])\n",
    "y_test = np.int32(np.array(MNIST_data['y_test'][:,0]))"
   ]
  },
  {
   "cell_type": "markdown",
   "metadata": {},
   "source": [
    "# One_Hot Function for Data Pre-Process"
   ]
  },
  {
   "cell_type": "code",
   "execution_count": 3,
   "metadata": {},
   "outputs": [],
   "source": [
    "def one_hot(Y):\n",
    "    m = Y.shape[0]\n",
    "    OHX = scipy.sparse.csr_matrix((np.ones(m), (Y, np.array(range(m)))))\n",
    "    OHX = np.array(OHX.todense()).T\n",
    "    return OHX"
   ]
  },
  {
   "cell_type": "code",
   "execution_count": 4,
   "metadata": {},
   "outputs": [],
   "source": [
    "one_hot_y_test = one_hot(y_test)\n",
    "one_hot_y_train = one_hot(y_train)"
   ]
  },
  {
   "cell_type": "markdown",
   "metadata": {},
   "source": [
    "# Parameters for Training"
   ]
  },
  {
   "cell_type": "code",
   "execution_count": 176,
   "metadata": {},
   "outputs": [],
   "source": [
    "#batch_size\n",
    "bs = 30\n",
    "#number of iteration\n",
    "total_iteration = 14000\n",
    "#learning rate\n",
    "ini_lr = 0.25\n",
    "#hidden size\n",
    "hs = 128"
   ]
  },
  {
   "cell_type": "markdown",
   "metadata": {},
   "source": [
    "# Relu Function"
   ]
  },
  {
   "cell_type": "code",
   "execution_count": 177,
   "metadata": {},
   "outputs": [],
   "source": [
    "def relu(x):     \n",
    "    return np.maximum(0, x)"
   ]
  },
  {
   "cell_type": "markdown",
   "metadata": {},
   "source": [
    "# Forward Propagation"
   ]
  },
  {
   "cell_type": "code",
   "execution_count": 178,
   "metadata": {},
   "outputs": [],
   "source": [
    "def forward_prop(x, w1, w2):\n",
    "    hidden_output = relu(np.dot(x,w1))\n",
    "    output = relu(np.dot(hidden_output, w2))\n",
    "    return(hidden_output, output)"
   ]
  },
  {
   "cell_type": "markdown",
   "metadata": {},
   "source": [
    "# Define Neural Network"
   ]
  },
  {
   "cell_type": "code",
   "execution_count": 183,
   "metadata": {},
   "outputs": [],
   "source": [
    "class neural_network():\n",
    "    def __init__(self,X,y,input_size,hidden_size, output_size,learning_rate=0.1,batch_size=128):\n",
    "        self.X = X\n",
    "        self.y = y\n",
    "        self.learning_rate = learning_rate\n",
    "        self.batch_size = batch_size\n",
    "        #initialize the weight matrixes\n",
    "        self.w1 = np.random.randn(input_size,hidden_size)*0.1\n",
    "        self.w2 = np.random.randn(hidden_size,output_size)*0.1\n",
    "\n",
    "    def train(self):\n",
    "        #Randomly choose a batch from dataset\n",
    "        n = [random.randint(0,len(self.X)-1) for i in range(self.batch_size)]\n",
    "        batch_data = self.X[n]\n",
    "        batch_label = self.y[n]\n",
    "        #calculate the result of each layer\n",
    "        hidden_output,output = forward_prop(batch_data, self.w1, self.w2)\n",
    "        #calculate gradient of w2\n",
    "        delta = output-batch_label\n",
    "        grads_w2 = hidden_output.T.dot(delta)\n",
    "        #calculate gradient of w1\n",
    "        delta = (hidden_output > 0) * delta.dot(self.w2.T)\n",
    "        grads_w1 = batch_data.T.dot(delta)\n",
    "        #update w1 and w2\n",
    "        self.w1-= lr*(grads_w1/(self.batch_size))\n",
    "        self.w2-= lr*(grads_w2/(self.batch_size))\n",
    "\n",
    "    def predict(self, x, y):\n",
    "        prediction = np.argmax(forward_prop(x, self.w1, self.w2)[-1], axis=1)\n",
    "        accuracy = np.mean(prediction == np.argmax(y, axis=1))\n",
    "        return(accuracy)"
   ]
  },
  {
   "cell_type": "code",
   "execution_count": 184,
   "metadata": {},
   "outputs": [],
   "source": [
    "net_ins = neural_network(x_train,one_hot_y_train,784,hs,10, ini_lr, bs)\n",
    "accs = np.zeros(int(total_iteration/100))\n",
    "for i in range(total_iteration):\n",
    "    #decrease learning rate over time\n",
    "    lr = ini_lr/(0.001*i+1)\n",
    "    #start training\n",
    "    net_ins.train()\n",
    "    if i%100==0:\n",
    "        accs[int(i//100)] = net_ins.predict(x_test, one_hot_y_test) "
   ]
  },
  {
   "cell_type": "markdown",
   "metadata": {},
   "source": [
    "# Plot the Accuracy vs. Iteration"
   ]
  },
  {
   "cell_type": "code",
   "execution_count": 185,
   "metadata": {},
   "outputs": [
    {
     "data": {
      "image/png": "[encoded data removed]",
      "text/plain": [
       "<Figure size 432x288 with 1 Axes>"
      ]
     },
     "metadata": {
      "needs_background": "light"
     },
     "output_type": "display_data"
    }
   ],
   "source": [
    "plt.plot(accs)\n",
    "plt.xlabel(\"iterations * 100\")\n",
    "plt.ylabel(\"accuracy\")\n",
    "plt.title(\"accuracy vs. iteration\")\n",
    "plt.show()"
   ]
  },
  {
   "cell_type": "markdown",
   "metadata": {},
   "source": [
    "# Print the Final Accuracy"
   ]
  },
  {
   "cell_type": "code",
   "execution_count": 186,
   "metadata": {},
   "outputs": [
    {
     "name": "stdout",
     "output_type": "stream",
     "text": [
      "final accuracy of test set is: 0.965\n"
     ]
    }
   ],
   "source": [
    "print(\"final accuracy of test set is:\", accs[-1])"
   ]
  },
  {
   "cell_type": "code",
   "execution_count": null,
   "metadata": {},
   "outputs": [],
   "source": []
  }
 ],
 "metadata": {
  "kernelspec": {
   "display_name": "Python 3",
   "language": "python",
   "name": "python3"
  },
  "language_info": {
   "codemirror_mode": {
    "name": "ipython",
    "version": 3
   },
   "file_extension": ".py",
   "mimetype": "text/x-python",
   "name": "python",
   "nbconvert_exporter": "python",
   "pygments_lexer": "ipython3",
   "version": "3.6.6"
  }
 },
 "nbformat": 4,
 "nbformat_minor": 2
}
