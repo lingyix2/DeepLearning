{
 "cells": [
  {
   "cell_type": "markdown",
   "metadata": {},
   "source": [
    "Lingyi Xu (lingyix2) CS398 HW3"
   ]
  },
  {
   "cell_type": "markdown",
   "metadata": {},
   "source": [
    "# Import Libraries"
   ]
  },
  {
   "cell_type": "code",
   "execution_count": 44,
   "metadata": {},
   "outputs": [],
   "source": [
    "import numpy as np\n",
    "import matplotlib.pyplot as plt\n",
    "import h5py\n",
    "from random import randint"
   ]
  },
  {
   "cell_type": "markdown",
   "metadata": {},
   "source": [
    "# Fetch Data"
   ]
  },
  {
   "cell_type": "code",
   "execution_count": 45,
   "metadata": {},
   "outputs": [],
   "source": [
    "# code from lecture notes\n",
    "MNIST_data = h5py.File('MNISTdata.hdf5', 'r')\n",
    "x_train = np.float32(MNIST_data['x_train'][:] )\n",
    "y_train = np.int32(np.array(MNIST_data['y_train'][:,0]))\n",
    "x_test = np.float32( MNIST_data['x_test'][:] )\n",
    "y_test = np.int32( np.array( MNIST_data['y_test'][:,0] ))"
   ]
  },
  {
   "cell_type": "markdown",
   "metadata": {},
   "source": [
    "# Parameters of Data"
   ]
  },
  {
   "cell_type": "code",
   "execution_count": 46,
   "metadata": {},
   "outputs": [],
   "source": [
    "num_outputs = 10\n",
    "d = 28\n",
    "kx = 3\n",
    "ky = 3"
   ]
  },
  {
   "cell_type": "markdown",
   "metadata": {},
   "source": [
    "# CNN Network"
   ]
  },
  {
   "cell_type": "code",
   "execution_count": 50,
   "metadata": {},
   "outputs": [],
   "source": [
    "class cnn():\n",
    "    #constructor-----------------------------------------------------------------\n",
    "    def __init__(self,X,y,input_size,output_size,d,k=3,num_channel = 1,learning_rate=0.01,batch_size=150):\n",
    "        self.X = X\n",
    "        self.y = y\n",
    "        self.k = k\n",
    "        self.d = d\n",
    "        self.W = np.random.randn(output_size,(d - k+1),(d-k+1),num_channel)*0.01\n",
    "        self.b = np.zeros((output_size,1))\n",
    "        self.kernel = np.random.randn(k,k,num_channel) * 0.01\n",
    "        self.H = np.zeros((d - k+1,d-k+1,num_channel))\n",
    "        self.Z = np.zeros((d - k+1,d-k+1,num_channel))\n",
    "        self.output_size = output_size\n",
    "        self.num_channel = num_channel\n",
    "        self.learning_rate = learning_rate\n",
    "        self.batch_size = batch_size\n",
    "    \n",
    "    #helper functions in building cnn-network-----------------------------------\n",
    "    def softmax(self, z):\n",
    "        return np.exp(z)/np.sum(np.exp(z))\n",
    "\n",
    "    def relu(self, x):\n",
    "        return np.maximum(0,x)\n",
    "\n",
    "    def conv(self,img,k,d,ky,kx):\n",
    "        x = d-kx+1\n",
    "        y = d-ky+1\n",
    "        result = np.zeros((y,x))\n",
    "        for i in range(y):\n",
    "            for j in range(x):\n",
    "                result[i][j] = np.sum(k*img[i:i+ky,j:j+ky])        \n",
    "        return result\n",
    "    \n",
    "    def relu_back(self, z):\n",
    "        return (z>0)\n",
    "    \n",
    "    #forward and backward propagation-------------------------------------------\n",
    "    def forward_prop(self,x):\n",
    "        k = self.k\n",
    "        x = x.reshape((28,28))\n",
    "        Z = np.zeros((d - k+1,d-k+1,self.num_channel))\n",
    "        H = np.zeros((d - k+1,d-k+1,self.num_channel))\n",
    "        for p in range(self.num_channel):\n",
    "            Z[:,:,p] = self.conv(x,self.kernel[:,:,p],d, self.kernel[:,:,p].shape[0],self.kernel[:,:,p].shape[1])\n",
    "            H[:,:,p] = self.relu(Z[:,:,p])\n",
    "        self.H = H\n",
    "        self.Z = Z\n",
    "        temp = np.dot(self.W.reshape(self.output_size,np.prod(H.shape)),H.reshape(np.prod(H.shape)))\n",
    "        U = temp.reshape((self.output_size,1)) + self.b\n",
    "        p = self.softmax(U)\n",
    "        return p\n",
    "    \n",
    "    def backward_prop(self,x,y,p):\n",
    "        x = x.reshape((28,28))\n",
    "        dU = -1.0*p\n",
    "        dU[y] = dU[y] + 1.0\n",
    "        db = dU\n",
    "        delta = np.zeros((d - self.k+1,d-self.k+1,self.num_channel))\n",
    "        dtemp = np.dot(self.W.reshape(self.output_size,np.prod(self.H.shape)).T,dU)\n",
    "        dtemp = dtemp.reshape((d - self.k+1,d-self.k+1,self.num_channel))\n",
    "        delta = dtemp\n",
    "        H = self.H\n",
    "        Z = self.Z\n",
    "        dk = np.zeros((self.k,self.k,self.num_channel))\n",
    "        for p in range(self.num_channel):\n",
    "            dktemp = np.multiply(self.relu_back(Z[:,:,p]), delta[:,:,p] )\n",
    "            dk[:,:,p] = self.conv(x, dktemp, d, dktemp.shape[0], dktemp.shape[1])\n",
    "        temp_W = np.dot(dU.reshape(self.output_size,1), H.reshape(np.prod(H.shape),1).T).reshape(self.W.shape)\n",
    "        return temp_W, db, dk\n",
    "    \n",
    "    #train function-------------------------------------------------------\n",
    "    def train(self):\n",
    "        num_epochs = 1000\n",
    "        for epochs in range(num_epochs):\n",
    "            LR = self.learning_rate/(0.01*epochs+1)\n",
    "            total_correct = 0\n",
    "            for n in range(self.batch_size):\n",
    "                n_random = randint(0,len(x_train)-1 )\n",
    "                y = y_train[n_random]\n",
    "                x = x_train[n_random][:]\n",
    "                p = self.forward_prop(x)\n",
    "                prediction = np.argmax(p)\n",
    "                if (prediction == y):\n",
    "                    total_correct += 1\n",
    "                temp_W, db, dk = self.backward_prop(x,y,p)\n",
    "                self.W = self.W + LR*temp_W\n",
    "                self.b = self.b + LR*db\n",
    "                self.kernel = self.kernel + LR*dk\n",
    "            if epochs%10 == 0:\n",
    "                print(\"At iteration \"+str(epochs)+\", accuracy is: \"+str(total_correct/self.batch_size))"
   ]
  },
  {
   "cell_type": "markdown",
   "metadata": {},
   "source": [
    "# Train and Test"
   ]
  },
  {
   "cell_type": "code",
   "execution_count": null,
   "metadata": {
    "scrolled": false
   },
   "outputs": [],
   "source": [
    "LR = .01\n",
    "num_epochs = 1000\n",
    "network = cnn(x_train,y_train,784,10,28,3,5)\n",
    "network.train()"
   ]
  },
  {
   "cell_type": "code",
   "execution_count": 49,
   "metadata": {},
   "outputs": [
    {
     "name": "stdout",
     "output_type": "stream",
     "text": [
      "The accuracy on Test data is:0.9705\n"
     ]
    }
   ],
   "source": [
    "correct = 0\n",
    "for n in range(len(x_test)):\n",
    "    y = y_test[n]\n",
    "    x = x_test[n][:]\n",
    "    prediction = np.argmax(network.forward_prop(x))\n",
    "    if (prediction == y):\n",
    "        correct += 1\n",
    "print(\"The accuracy on Test data is:\"+str(correct/np.float(len(x_test))))"
   ]
  },
  {
   "cell_type": "code",
   "execution_count": null,
   "metadata": {},
   "outputs": [],
   "source": []
  }
 ],
 "metadata": {
  "kernelspec": {
   "display_name": "Python 3",
   "language": "python",
   "name": "python3"
  },
  "language_info": {
   "codemirror_mode": {
    "name": "ipython",
    "version": 3
   },
   "file_extension": ".py",
   "mimetype": "text/x-python",
   "name": "python",
   "nbconvert_exporter": "python",
   "pygments_lexer": "ipython3",
   "version": "3.6.6"
  }
 },
 "nbformat": 4,
 "nbformat_minor": 2
}
