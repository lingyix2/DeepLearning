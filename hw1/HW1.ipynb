{
 "cells": [
  {
   "cell_type": "markdown",
   "metadata": {},
   "source": [
    "# Import Libraries"
   ]
  },
  {
   "cell_type": "code",
   "execution_count": 137,
   "metadata": {},
   "outputs": [],
   "source": [
    "import h5py\n",
    "import random\n",
    "import scipy.sparse\n",
    "\n",
    "import numpy as np\n",
    "import matplotlib.pyplot as plt"
   ]
  },
  {
   "cell_type": "markdown",
   "metadata": {},
   "source": [
    "# Fetch Data"
   ]
  },
  {
   "cell_type": "code",
   "execution_count": 138,
   "metadata": {},
   "outputs": [],
   "source": [
    "# code from lecture notes\n",
    "MNIST_data = h5py.File('MNISTdata.hdf5', 'r')\n",
    "x_train = np.float32(MNIST_data['x_train'][:] )\n",
    "y_train = np.int32(np.array(MNIST_data['y_train'][:,0]))\n",
    "x_test = np.float32(MNIST_data['x_test'][:])\n",
    "y_test = np.int32(np.array(MNIST_data['y_test'][:,0]))"
   ]
  },
  {
   "cell_type": "markdown",
   "metadata": {},
   "source": [
    "# Helper Function for Data Pre-Process"
   ]
  },
  {
   "cell_type": "code",
   "execution_count": 139,
   "metadata": {},
   "outputs": [],
   "source": [
    "def one_hot(Y):\n",
    "    m = Y.shape[0]\n",
    "    OHX = scipy.sparse.csr_matrix((np.ones(m), (Y, np.array(range(m)))))\n",
    "    OHX = np.array(OHX.todense()).T\n",
    "    return OHX"
   ]
  },
  {
   "cell_type": "code",
   "execution_count": 140,
   "metadata": {},
   "outputs": [],
   "source": [
    "one_hot_y_test = one_hot(y_test)\n",
    "one_hot_y_train = one_hot(y_train)"
   ]
  },
  {
   "cell_type": "markdown",
   "metadata": {},
   "source": [
    "# Helper Function for Printing"
   ]
  },
  {
   "cell_type": "code",
   "execution_count": 141,
   "metadata": {},
   "outputs": [],
   "source": [
    "def accuracy(x_data,y_data,w):\n",
    "    probability = softmax(np.dot(x_data,w))\n",
    "    res = np.argmax(probability,axis=1)\n",
    "    accuracy = (sum(res == y_data.reshape(10000,)))/((len(x_data)))\n",
    "    return accuracy\n",
    "\n",
    "def loss(w,x,y):\n",
    "    m = x.shape[0]\n",
    "    z_all = np.dot(x,w)\n",
    "    f_z_all = softmax(z_all) \n",
    "    loss = (-1/m) * np.sum(y*np.log(f_z_all))\n",
    "    return loss"
   ]
  },
  {
   "cell_type": "markdown",
   "metadata": {},
   "source": [
    "# Parameters for Training"
   ]
  },
  {
   "cell_type": "code",
   "execution_count": 162,
   "metadata": {},
   "outputs": [],
   "source": [
    "batch_size = 32\n",
    "total_iteration = 2800\n",
    "learning_rate_arr = [0.5,0.2,0.05,0.01]"
   ]
  },
  {
   "cell_type": "markdown",
   "metadata": {},
   "source": [
    "# Softmax Function"
   ]
  },
  {
   "cell_type": "code",
   "execution_count": 163,
   "metadata": {},
   "outputs": [],
   "source": [
    "def softmax(z):\n",
    "    exp = np.exp(z-np.max(z, axis=1).reshape((-1,1)))\n",
    "    norms = np.sum(exp, axis=1).reshape((-1,1))\n",
    "    return exp / norms"
   ]
  },
  {
   "cell_type": "markdown",
   "metadata": {},
   "source": [
    "# Gradient Decent Function"
   ]
  },
  {
   "cell_type": "code",
   "execution_count": 164,
   "metadata": {},
   "outputs": [],
   "source": [
    "def gradient(w,x,y):\n",
    "    n = [random.randint(0,len(x)-1) for i in range(batch_size)]\n",
    "    xs = x[n]\n",
    "    ys = y[n]\n",
    "    z = softmax(np.dot(xs,w))\n",
    "    gradient = -(1/batch_size)*np.dot(xs.T,(ys-z))\n",
    "    return gradient"
   ]
  },
  {
   "cell_type": "code",
   "execution_count": 173,
   "metadata": {},
   "outputs": [
    {
     "name": "stdout",
     "output_type": "stream",
     "text": [
      "Iteration: 0  Loss: 2.6386721528149115  Accuracy: 0.1059\n",
      "Iteration: 100  Loss: 0.4674560218638714  Accuracy: 0.8692\n",
      "Iteration: 200  Loss: 0.38750435547474543  Accuracy: 0.8932\n",
      "Iteration: 300  Loss: 0.37538129423984823  Accuracy: 0.8949\n",
      "Iteration: 400  Loss: 0.36536915143485316  Accuracy: 0.8978\n",
      "Iteration: 500  Loss: 0.3436672859195566  Accuracy: 0.9081\n",
      "Iteration: 600  Loss: 0.36578639248677497  Accuracy: 0.8959\n",
      "Iteration: 700  Loss: 0.3458743329059674  Accuracy: 0.9034\n",
      "Iteration: 800  Loss: 0.3178949142693043  Accuracy: 0.9134\n",
      "Iteration: 900  Loss: 0.32411204758092993  Accuracy: 0.9087\n",
      "Iteration: 1000  Loss: 0.32574132536106687  Accuracy: 0.9117\n",
      "Iteration: 1100  Loss: 0.30888816681162373  Accuracy: 0.9165\n",
      "Iteration: 1200  Loss: 0.3090978621064336  Accuracy: 0.9167\n",
      "Iteration: 1300  Loss: 0.30635829688914723  Accuracy: 0.9156\n",
      "Iteration: 1400  Loss: 0.3051119720830487  Accuracy: 0.9162\n",
      "Iteration: 1500  Loss: 0.30226077903331894  Accuracy: 0.9173\n",
      "Iteration: 1600  Loss: 0.30036961394310974  Accuracy: 0.9179\n",
      "Iteration: 1700  Loss: 0.2974374495919239  Accuracy: 0.9182\n",
      "Iteration: 1800  Loss: 0.2967996566391392  Accuracy: 0.9188\n",
      "Iteration: 1900  Loss: 0.2972506943728781  Accuracy: 0.9179\n",
      "Iteration: 2000  Loss: 0.2959648955486829  Accuracy: 0.9198\n",
      "Iteration: 2100  Loss: 0.2969388610856361  Accuracy: 0.9179\n",
      "Iteration: 2200  Loss: 0.29480754042182405  Accuracy: 0.9186\n",
      "Iteration: 2300  Loss: 0.2950253347839598  Accuracy: 0.9185\n",
      "Iteration: 2400  Loss: 0.2944895634162499  Accuracy: 0.9185\n",
      "Iteration: 2500  Loss: 0.2936623287217142  Accuracy: 0.92\n",
      "Iteration: 2600  Loss: 0.294711366638096  Accuracy: 0.9198\n",
      "Iteration: 2700  Loss: 0.2934821705807042  Accuracy: 0.9191\n"
     ]
    }
   ],
   "source": [
    "w = np.zeros([x_train.shape[1],len(np.unique(y_train))])\n",
    "loss_list = np.zeros(28)\n",
    "acc_list = np.zeros(28)\n",
    "for i in range(total_iteration):\n",
    "    gradient_i = gradient(w,x_train,one_hot_y_train)\n",
    "    lr = learning_rate_arr[(i//int(total_iteration/4))]\n",
    "    w -= (lr* gradient_i)\n",
    "    if i%100 == 0:\n",
    "        curr_loss = loss(w,x_train,one_hot_y_train)\n",
    "        curr_acc = accuracy(x_test,y_test,w)\n",
    "        loss_list[int(i/100)] = curr_loss\n",
    "        acc_list[int(i/100)] = curr_acc\n",
    "        print(\"Iteration:\",i,\" Loss:\",curr_loss,\" Accuracy:\",curr_acc)"
   ]
  },
  {
   "cell_type": "markdown",
   "metadata": {},
   "source": [
    "# Plot the Accuracy vs. Iteration"
   ]
  },
  {
   "cell_type": "code",
   "execution_count": 169,
   "metadata": {},
   "outputs": [
    {
     "data": {
      "image/png": "[encoded data removed]",
      "text/plain": [
       "<Figure size 432x288 with 1 Axes>"
      ]
     },
     "metadata": {
      "needs_background": "light"
     },
     "output_type": "display_data"
    }
   ],
   "source": [
    "plt.plot(accs)\n",
    "plt.xlabel(\"iterations * 100\")\n",
    "plt.ylabel(\"accuracy\")\n",
    "plt.title(\"accuracy vs. iteration\")\n",
    "plt.show()"
   ]
  },
  {
   "cell_type": "markdown",
   "metadata": {},
   "source": [
    "# Print the Final Accuracy"
   ]
  },
  {
   "cell_type": "code",
   "execution_count": 167,
   "metadata": {},
   "outputs": [
    {
     "name": "stdout",
     "output_type": "stream",
     "text": [
      "final accuracy of test set is: 0.919\n"
     ]
    }
   ],
   "source": [
    "print(\"final accuracy of test set is:\", accuracy(x_test,y_test,w))"
   ]
  },
  {
   "cell_type": "code",
   "execution_count": null,
   "metadata": {},
   "outputs": [],
   "source": []
  }
 ],
 "metadata": {
  "kernelspec": {
   "display_name": "Python 3",
   "language": "python",
   "name": "python3"
  },
  "language_info": {
   "codemirror_mode": {
    "name": "ipython",
    "version": 3
   },
   "file_extension": ".py",
   "mimetype": "text/x-python",
   "name": "python",
   "nbconvert_exporter": "python",
   "pygments_lexer": "ipython3",
   "version": "3.6.6"
  }
 },
 "nbformat": 4,
 "nbformat_minor": 2
}
